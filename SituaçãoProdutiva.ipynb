{
 "cells": [
  {
   "cell_type": "code",
   "execution_count": 7,
   "id": "cb3bb8b0-52cb-4a67-9ef4-e8f1e3619248",
   "metadata": {
    "scrolled": true
   },
   "outputs": [],
   "source": [
    "import pandas as pd"
   ]
  },
  {
   "cell_type": "markdown",
   "id": "0dfacc73-fac1-4fc1-bae7-9bdb659c8083",
   "metadata": {},
   "source": [
    "### Grando Gráfico Pie"
   ]
  },
  {
   "cell_type": "code",
   "execution_count": 8,
   "id": "bfeb2465-3639-4411-be43-487cb232d6b8",
   "metadata": {},
   "outputs": [
    {
     "data": {
      "text/html": [
       "<div>\n",
       "<style scoped>\n",
       "    .dataframe tbody tr th:only-of-type {\n",
       "        vertical-align: middle;\n",
       "    }\n",
       "\n",
       "    .dataframe tbody tr th {\n",
       "        vertical-align: top;\n",
       "    }\n",
       "\n",
       "    .dataframe thead th {\n",
       "        text-align: right;\n",
       "    }\n",
       "</style>\n",
       "<table border=\"1\" class=\"dataframe\">\n",
       "  <thead>\n",
       "    <tr style=\"text-align: right;\">\n",
       "      <th></th>\n",
       "      <th>bin_to_uuid(a.animal_id)</th>\n",
       "      <th>nome</th>\n",
       "      <th>raca</th>\n",
       "      <th>categoria</th>\n",
       "      <th>data_ocorrencia_prod</th>\n",
       "      <th>produtividade</th>\n",
       "      <th>motivacao</th>\n",
       "    </tr>\n",
       "  </thead>\n",
       "  <tbody>\n",
       "    <tr>\n",
       "      <th>0</th>\n",
       "      <td>1da6d154-a13b-44be-9339-8ae4b798c6ee</td>\n",
       "      <td>04 judi</td>\n",
       "      <td>H</td>\n",
       "      <td>V</td>\n",
       "      <td>2024-11-07 07:35:00</td>\n",
       "      <td>L</td>\n",
       "      <td>NaN</td>\n",
       "    </tr>\n",
       "    <tr>\n",
       "      <th>1</th>\n",
       "      <td>208d125f-2f3d-4053-a912-4ac7092c9e66</td>\n",
       "      <td>Xalana</td>\n",
       "      <td>H</td>\n",
       "      <td>V</td>\n",
       "      <td>2024-04-03 13:33:00</td>\n",
       "      <td>L</td>\n",
       "      <td>NaN</td>\n",
       "    </tr>\n",
       "    <tr>\n",
       "      <th>2</th>\n",
       "      <td>233b7e95-9caa-4e48-8c41-85bac4f3c33b</td>\n",
       "      <td>Pink</td>\n",
       "      <td>H</td>\n",
       "      <td>V</td>\n",
       "      <td>2024-04-21 13:41:00</td>\n",
       "      <td>L</td>\n",
       "      <td>NaN</td>\n",
       "    </tr>\n",
       "    <tr>\n",
       "      <th>3</th>\n",
       "      <td>34320a5f-cccf-4172-bee3-090e70783b49</td>\n",
       "      <td>Grandona</td>\n",
       "      <td>H</td>\n",
       "      <td>V</td>\n",
       "      <td>2024-05-04 13:49:00</td>\n",
       "      <td>L</td>\n",
       "      <td>NaN</td>\n",
       "    </tr>\n",
       "    <tr>\n",
       "      <th>4</th>\n",
       "      <td>37302b3b-4eca-482d-bf49-7a29236ae9ce</td>\n",
       "      <td>Rosada</td>\n",
       "      <td>H</td>\n",
       "      <td>V</td>\n",
       "      <td>2024-02-20 13:37:00</td>\n",
       "      <td>L</td>\n",
       "      <td>NaN</td>\n",
       "    </tr>\n",
       "  </tbody>\n",
       "</table>\n",
       "</div>"
      ],
      "text/plain": [
       "               bin_to_uuid(a.animal_id)      nome raca categoria  \\\n",
       "0  1da6d154-a13b-44be-9339-8ae4b798c6ee   04 judi    H         V   \n",
       "1  208d125f-2f3d-4053-a912-4ac7092c9e66    Xalana    H         V   \n",
       "2  233b7e95-9caa-4e48-8c41-85bac4f3c33b      Pink    H         V   \n",
       "3  34320a5f-cccf-4172-bee3-090e70783b49  Grandona    H         V   \n",
       "4  37302b3b-4eca-482d-bf49-7a29236ae9ce    Rosada    H         V   \n",
       "\n",
       "  data_ocorrencia_prod produtividade motivacao  \n",
       "0  2024-11-07 07:35:00             L       NaN  \n",
       "1  2024-04-03 13:33:00             L       NaN  \n",
       "2  2024-04-21 13:41:00             L       NaN  \n",
       "3  2024-05-04 13:49:00             L       NaN  \n",
       "4  2024-02-20 13:37:00             L       NaN  "
      ]
     },
     "execution_count": 8,
     "metadata": {},
     "output_type": "execute_result"
    }
   ],
   "source": [
    "df_prod = pd.read_csv(\"situação_de_produção.csv\")\n",
    "df_prod['data_ocorrencia_prod'] = pd.to_datetime(df_prod['data_ocorrencia_prod'])\n",
    "df_prod.head()"
   ]
  },
  {
   "cell_type": "code",
   "execution_count": 9,
   "id": "86f0b335-5aa6-46bd-8007-2b99427993c2",
   "metadata": {},
   "outputs": [
    {
     "data": {
      "text/plain": [
       "bin_to_uuid(a.animal_id)     0\n",
       "nome                         0\n",
       "raca                         0\n",
       "categoria                    0\n",
       "data_ocorrencia_prod         0\n",
       "produtividade                0\n",
       "motivacao                   22\n",
       "dtype: int64"
      ]
     },
     "execution_count": 9,
     "metadata": {},
     "output_type": "execute_result"
    }
   ],
   "source": [
    "df_prod.isnull().sum()"
   ]
  },
  {
   "cell_type": "code",
   "execution_count": 10,
   "id": "5beb4202-38c2-429a-95fa-79e56f581453",
   "metadata": {},
   "outputs": [],
   "source": [
    "import matplotlib.pyplot as plt\n",
    "import numpy as np"
   ]
  },
  {
   "cell_type": "code",
   "execution_count": 12,
   "id": "9fa68aa7-8ee2-4500-8fe9-fc556d382f03",
   "metadata": {},
   "outputs": [
    {
     "data": {
      "text/plain": [
       "Text(0.5, 1.0, 'Situação Produtiva Atual do Rebanho')"
      ]
     },
     "execution_count": 12,
     "metadata": {},
     "output_type": "execute_result"
    },
    {
     "data": {
      "image/png": "[encoded data removed]",
      "text/plain": [
       "<Figure size 640x480 with 1 Axes>"
      ]
     },
     "metadata": {},
     "output_type": "display_data"
    }
   ],
   "source": [
    "df_prod.produtividade.value_counts()\n",
    "situ_prod = df_prod[\"produtividade\"].value_counts().to_frame().reset_index()\n",
    "situ_prod.columns = [\"produtividade\", \"total\"]\n",
    "c = ['#ac4db3','#cf99d4']\n",
    "labels =  \"Produzindo\",\"Seca\"\n",
    "#ax.set_title(\"Situação Produtiva do Rebanho\")\n",
    "plt.rcParams['xtick.labelsize'] = 10\n",
    "fg1, ax1=plt.subplots()\n",
    "ax1.pie(situ_prod[\"total\"], labels=labels, autopct='%1.1f%%', startangle=90, colors=c)\n",
    "ax1.axis(\"equal\")\n",
    "ax1.set_title(\"Situação Produtiva Atual do Rebanho\")"
   ]
  }
 ],
 "metadata": {
  "kernelspec": {
   "display_name": "Python 3 (ipykernel)",
   "language": "python",
   "name": "python3"
  },
  "language_info": {
   "codemirror_mode": {
    "name": "ipython",
    "version": 3
   },
   "file_extension": ".py",
   "mimetype": "text/x-python",
   "name": "python",
   "nbconvert_exporter": "python",
   "pygments_lexer": "ipython3",
   "version": "3.11.7"
  },
  "widgets": {
   "application/vnd.jupyter.widget-state+json": {
    "state": {},
    "version_major": 2,
    "version_minor": 0
   }
  }
 },
 "nbformat": 4,
 "nbformat_minor": 5
}
