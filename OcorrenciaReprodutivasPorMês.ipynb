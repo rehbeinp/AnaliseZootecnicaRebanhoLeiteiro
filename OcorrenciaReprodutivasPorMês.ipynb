{
 "cells": [
  {
   "cell_type": "code",
   "execution_count": 103,
   "id": "c2d9ff28-babf-4c5d-add9-3dd6773fba04",
   "metadata": {},
   "outputs": [],
   "source": [
    "import pandas as pd"
   ]
  },
  {
   "cell_type": "markdown",
   "id": "74cbbd5c-d9f3-40b3-8e10-4db3bb176fcf",
   "metadata": {},
   "source": [
    "### Gerando Gráfico de Dispersão"
   ]
  },
  {
   "cell_type": "code",
   "execution_count": 112,
   "id": "b9a6573b-e4d0-47ed-8d83-5b6f9409b46f",
   "metadata": {},
   "outputs": [
    {
     "data": {
      "text/html": [
       "<div>\n",
       "<style scoped>\n",
       "    .dataframe tbody tr th:only-of-type {\n",
       "        vertical-align: middle;\n",
       "    }\n",
       "\n",
       "    .dataframe tbody tr th {\n",
       "        vertical-align: top;\n",
       "    }\n",
       "\n",
       "    .dataframe thead th {\n",
       "        text-align: right;\n",
       "    }\n",
       "</style>\n",
       "<table border=\"1\" class=\"dataframe\">\n",
       "  <thead>\n",
       "    <tr style=\"text-align: right;\">\n",
       "      <th></th>\n",
       "      <th>bin_to_uuid(a.animal_id)</th>\n",
       "      <th>nome</th>\n",
       "      <th>data_nascimento</th>\n",
       "      <th>raca</th>\n",
       "      <th>categoria</th>\n",
       "      <th>sexo</th>\n",
       "      <th>data_ocorrencia_repro</th>\n",
       "      <th>reprodutividade</th>\n",
       "    </tr>\n",
       "  </thead>\n",
       "  <tbody>\n",
       "    <tr>\n",
       "      <th>0</th>\n",
       "      <td>033438fa-c374-4ae9-92a8-d711da2a6866</td>\n",
       "      <td>17 biju</td>\n",
       "      <td>2024-04-14</td>\n",
       "      <td>H</td>\n",
       "      <td>N</td>\n",
       "      <td>F</td>\n",
       "      <td>NaT</td>\n",
       "      <td>NaN</td>\n",
       "    </tr>\n",
       "    <tr>\n",
       "      <th>1</th>\n",
       "      <td>1da6d154-a13b-44be-9339-8ae4b798c6ee</td>\n",
       "      <td>04 judi</td>\n",
       "      <td>2023-02-25</td>\n",
       "      <td>H</td>\n",
       "      <td>V</td>\n",
       "      <td>F</td>\n",
       "      <td>2024-11-07 19:33:00</td>\n",
       "      <td>PT</td>\n",
       "    </tr>\n",
       "    <tr>\n",
       "      <th>2</th>\n",
       "      <td>1da6d154-a13b-44be-9339-8ae4b798c6ee</td>\n",
       "      <td>04 judi</td>\n",
       "      <td>2023-02-25</td>\n",
       "      <td>H</td>\n",
       "      <td>V</td>\n",
       "      <td>F</td>\n",
       "      <td>2024-11-22 19:13:00</td>\n",
       "      <td>CI</td>\n",
       "    </tr>\n",
       "    <tr>\n",
       "      <th>3</th>\n",
       "      <td>1da6d154-a13b-44be-9339-8ae4b798c6ee</td>\n",
       "      <td>04 judi</td>\n",
       "      <td>2023-02-25</td>\n",
       "      <td>H</td>\n",
       "      <td>V</td>\n",
       "      <td>F</td>\n",
       "      <td>2024-02-05 20:16:00</td>\n",
       "      <td>IN</td>\n",
       "    </tr>\n",
       "    <tr>\n",
       "      <th>4</th>\n",
       "      <td>208d125f-2f3d-4053-a912-4ac7092c9e66</td>\n",
       "      <td>Xalana</td>\n",
       "      <td>2017-08-04</td>\n",
       "      <td>H</td>\n",
       "      <td>V</td>\n",
       "      <td>F</td>\n",
       "      <td>2024-09-12 13:35:00</td>\n",
       "      <td>IN</td>\n",
       "    </tr>\n",
       "  </tbody>\n",
       "</table>\n",
       "</div>"
      ],
      "text/plain": [
       "               bin_to_uuid(a.animal_id)     nome data_nascimento raca  \\\n",
       "0  033438fa-c374-4ae9-92a8-d711da2a6866  17 biju      2024-04-14    H   \n",
       "1  1da6d154-a13b-44be-9339-8ae4b798c6ee  04 judi      2023-02-25    H   \n",
       "2  1da6d154-a13b-44be-9339-8ae4b798c6ee  04 judi      2023-02-25    H   \n",
       "3  1da6d154-a13b-44be-9339-8ae4b798c6ee  04 judi      2023-02-25    H   \n",
       "4  208d125f-2f3d-4053-a912-4ac7092c9e66   Xalana      2017-08-04    H   \n",
       "\n",
       "  categoria sexo data_ocorrencia_repro reprodutividade  \n",
       "0         N    F                   NaT             NaN  \n",
       "1         V    F   2024-11-07 19:33:00              PT  \n",
       "2         V    F   2024-11-22 19:13:00              CI  \n",
       "3         V    F   2024-02-05 20:16:00              IN  \n",
       "4         V    F   2024-09-12 13:35:00              IN  "
      ]
     },
     "execution_count": 112,
     "metadata": {},
     "output_type": "execute_result"
    }
   ],
   "source": [
    "df_repro = pd.read_csv(\"evento_reprodução.csv\")\n",
    "#transformando para tipo data\n",
    "df_repro['data_ocorrencia_repro'] = pd.to_datetime(df_repro['data_ocorrencia_repro'])\n",
    "df_repro.head()"
   ]
  },
  {
   "cell_type": "code",
   "execution_count": 106,
   "id": "8bc787f1-950d-4024-b85b-b5c252211a70",
   "metadata": {},
   "outputs": [
    {
     "data": {
      "text/plain": [
       "bin_to_uuid(a.animal_id)     0\n",
       "nome                         0\n",
       "data_nascimento              0\n",
       "raca                         0\n",
       "categoria                    0\n",
       "sexo                         0\n",
       "data_ocorrencia_repro       13\n",
       "reprodutividade             13\n",
       "dtype: int64"
      ]
     },
     "execution_count": 106,
     "metadata": {},
     "output_type": "execute_result"
    }
   ],
   "source": [
    "#averiguando os dados nulos\n",
    "df_repro.isnull().sum()"
   ]
  },
  {
   "cell_type": "code",
   "execution_count": 75,
   "id": "8f0971c4-5ed7-4b15-90a0-cd7fff5dc72e",
   "metadata": {},
   "outputs": [
    {
     "name": "stderr",
     "output_type": "stream",
     "text": [
      "C:\\Users\\Paula Rehbein\\AppData\\Local\\Temp\\ipykernel_10444\\4164722031.py:4: SettingWithCopyWarning: \n",
      "A value is trying to be set on a copy of a slice from a DataFrame.\n",
      "Try using .loc[row_indexer,col_indexer] = value instead\n",
      "\n",
      "See the caveats in the documentation: https://pandas.pydata.org/pandas-docs/stable/user_guide/indexing.html#returning-a-view-versus-a-copy\n",
      "  df3['ocorrencia'] = df3.groupby(['reprodutividade', df3['data_ocorrencia_repro']])['data_ocorrencia_repro'].transform('count')\n"
     ]
    },
    {
     "data": {
      "text/html": [
       "<div>\n",
       "<style scoped>\n",
       "    .dataframe tbody tr th:only-of-type {\n",
       "        vertical-align: middle;\n",
       "    }\n",
       "\n",
       "    .dataframe tbody tr th {\n",
       "        vertical-align: top;\n",
       "    }\n",
       "\n",
       "    .dataframe thead th {\n",
       "        text-align: right;\n",
       "    }\n",
       "</style>\n",
       "<table border=\"1\" class=\"dataframe\">\n",
       "  <thead>\n",
       "    <tr style=\"text-align: right;\">\n",
       "      <th></th>\n",
       "      <th>data_ocorrencia_repro</th>\n",
       "      <th>reprodutividade</th>\n",
       "      <th>ocorrencia</th>\n",
       "    </tr>\n",
       "  </thead>\n",
       "  <tbody>\n",
       "    <tr>\n",
       "      <th>1</th>\n",
       "      <td>11</td>\n",
       "      <td>PT</td>\n",
       "      <td>4</td>\n",
       "    </tr>\n",
       "    <tr>\n",
       "      <th>2</th>\n",
       "      <td>11</td>\n",
       "      <td>CI</td>\n",
       "      <td>4</td>\n",
       "    </tr>\n",
       "    <tr>\n",
       "      <th>3</th>\n",
       "      <td>2</td>\n",
       "      <td>IN</td>\n",
       "      <td>4</td>\n",
       "    </tr>\n",
       "    <tr>\n",
       "      <th>4</th>\n",
       "      <td>9</td>\n",
       "      <td>IN</td>\n",
       "      <td>8</td>\n",
       "    </tr>\n",
       "    <tr>\n",
       "      <th>8</th>\n",
       "      <td>7</td>\n",
       "      <td>IN</td>\n",
       "      <td>3</td>\n",
       "    </tr>\n",
       "  </tbody>\n",
       "</table>\n",
       "</div>"
      ],
      "text/plain": [
       "   data_ocorrencia_repro reprodutividade  ocorrencia\n",
       "1                     11              PT           4\n",
       "2                     11              CI           4\n",
       "3                      2              IN           4\n",
       "4                      9              IN           8\n",
       "8                      7              IN           3"
      ]
     },
     "execution_count": 75,
     "metadata": {},
     "output_type": "execute_result"
    }
   ],
   "source": [
    "df_re=df_repro.dropna()\n",
    "#mudando para mês\n",
    "df_re.loc[:,'data_ocorrencia_repro']=df_re.loc[:,'data_ocorrencia_repro'].dt.month\n",
    "df3 = df_re[['data_ocorrencia_repro','reprodutividade']]\n",
    "\n",
    "#agrupando as ocorrencias por mês\n",
    "df3['ocorrencia'] = df3.groupby(['reprodutividade', df3['data_ocorrencia_repro']])['data_ocorrencia_repro'].transform('count')\n",
    "\n",
    "df3=df3.drop_duplicates()\n",
    "df3.head()"
   ]
  },
  {
   "cell_type": "code",
   "execution_count": 113,
   "id": "21624662-3e25-4f73-82f6-a24c33b2e84d",
   "metadata": {},
   "outputs": [],
   "source": [
    "df3=df3.sort_values(by=['data_ocorrencia_repro'])"
   ]
  },
  {
   "cell_type": "code",
   "execution_count": 114,
   "id": "92c59cd4-864b-44d4-9906-d63933ccc4fe",
   "metadata": {},
   "outputs": [
    {
     "data": {
      "text/html": [
       "<div>\n",
       "<style scoped>\n",
       "    .dataframe tbody tr th:only-of-type {\n",
       "        vertical-align: middle;\n",
       "    }\n",
       "\n",
       "    .dataframe tbody tr th {\n",
       "        vertical-align: top;\n",
       "    }\n",
       "\n",
       "    .dataframe thead th {\n",
       "        text-align: right;\n",
       "    }\n",
       "</style>\n",
       "<table border=\"1\" class=\"dataframe\">\n",
       "  <thead>\n",
       "    <tr style=\"text-align: right;\">\n",
       "      <th></th>\n",
       "      <th>Mês</th>\n",
       "      <th>reprodutividade</th>\n",
       "      <th>ocorrencia</th>\n",
       "    </tr>\n",
       "  </thead>\n",
       "  <tbody>\n",
       "    <tr>\n",
       "      <th>3</th>\n",
       "      <td>2</td>\n",
       "      <td>IN</td>\n",
       "      <td>4</td>\n",
       "    </tr>\n",
       "    <tr>\n",
       "      <th>33</th>\n",
       "      <td>2</td>\n",
       "      <td>PN</td>\n",
       "      <td>1</td>\n",
       "    </tr>\n",
       "    <tr>\n",
       "      <th>53</th>\n",
       "      <td>3</td>\n",
       "      <td>PN</td>\n",
       "      <td>1</td>\n",
       "    </tr>\n",
       "    <tr>\n",
       "      <th>54</th>\n",
       "      <td>3</td>\n",
       "      <td>IN</td>\n",
       "      <td>1</td>\n",
       "    </tr>\n",
       "    <tr>\n",
       "      <th>37</th>\n",
       "      <td>4</td>\n",
       "      <td>IN</td>\n",
       "      <td>2</td>\n",
       "    </tr>\n",
       "  </tbody>\n",
       "</table>\n",
       "</div>"
      ],
      "text/plain": [
       "    Mês reprodutividade  ocorrencia\n",
       "3     2              IN           4\n",
       "33    2              PN           1\n",
       "53    3              PN           1\n",
       "54    3              IN           1\n",
       "37    4              IN           2"
      ]
     },
     "execution_count": 114,
     "metadata": {},
     "output_type": "execute_result"
    }
   ],
   "source": [
    "dfgraf3=df3.rename(columns={'data_ocorrencia_repro': 'Mês'})\n",
    "dfgraf3.head()"
   ]
  },
  {
   "cell_type": "code",
   "execution_count": 115,
   "id": "780c4d1c-85b7-46dc-9494-d289e6a537d4",
   "metadata": {},
   "outputs": [
    {
     "data": {
      "image/png": "[encoded data removed]",
      "text/plain": [
       "<Figure size 1500x500 with 1 Axes>"
      ]
     },
     "metadata": {},
     "output_type": "display_data"
    }
   ],
   "source": [
    "import seaborn as sns\n",
    "import matplotlib.pyplot as plt\n",
    "\n",
    "# Criando o ambiente do gráfico \n",
    "sns.set(style='darkgrid')\n",
    "#sns.set_style(\"white\")\n",
    "plt.figure(figsize=(15,5))\n",
    "\n",
    "# Gráfico de Dispersão\n",
    "scatter_plot = sns.scatterplot(x=\"Mês\", \n",
    "                               y=\"ocorrencia\", \n",
    "                               s=dfgraf3['ocorrencia']*40, \n",
    "                               hue='reprodutividade', \n",
    "                               palette={'IN': 'red', \n",
    "                                        'PT': 'purple', \n",
    "                                        'PN': 'green',\n",
    "                                        'CI':'black'},\n",
    "                    data=dfgraf3)\n",
    "\n",
    "scatter_plot.legend(loc='upper left', facecolor='white')\n",
    "plt.title('Ocorrência Mensal de Cios, Inseminações, Prenhezes e Partos')\n",
    "\n",
    "plt.show()"
   ]
  },
  {
   "cell_type": "markdown",
   "id": "ee0d1d20-6507-4ea1-8732-51605c31637e",
   "metadata": {},
   "source": [
    "### Gerando Gráfico de linhas"
   ]
  },
  {
   "cell_type": "code",
   "execution_count": 116,
   "id": "6cecd21a-f322-43f6-8f3f-c3133157b252",
   "metadata": {},
   "outputs": [
    {
     "data": {
      "text/html": [
       "<div>\n",
       "<style scoped>\n",
       "    .dataframe tbody tr th:only-of-type {\n",
       "        vertical-align: middle;\n",
       "    }\n",
       "\n",
       "    .dataframe tbody tr th {\n",
       "        vertical-align: top;\n",
       "    }\n",
       "\n",
       "    .dataframe thead th {\n",
       "        text-align: right;\n",
       "    }\n",
       "</style>\n",
       "<table border=\"1\" class=\"dataframe\">\n",
       "  <thead>\n",
       "    <tr style=\"text-align: right;\">\n",
       "      <th></th>\n",
       "      <th>Mês</th>\n",
       "      <th>reprodutividade</th>\n",
       "      <th>ocorrencia</th>\n",
       "    </tr>\n",
       "  </thead>\n",
       "  <tbody>\n",
       "    <tr>\n",
       "      <th>3</th>\n",
       "      <td>2</td>\n",
       "      <td>IN</td>\n",
       "      <td>4</td>\n",
       "    </tr>\n",
       "    <tr>\n",
       "      <th>33</th>\n",
       "      <td>2</td>\n",
       "      <td>PN</td>\n",
       "      <td>1</td>\n",
       "    </tr>\n",
       "    <tr>\n",
       "      <th>53</th>\n",
       "      <td>3</td>\n",
       "      <td>PN</td>\n",
       "      <td>1</td>\n",
       "    </tr>\n",
       "    <tr>\n",
       "      <th>54</th>\n",
       "      <td>3</td>\n",
       "      <td>IN</td>\n",
       "      <td>1</td>\n",
       "    </tr>\n",
       "    <tr>\n",
       "      <th>37</th>\n",
       "      <td>4</td>\n",
       "      <td>IN</td>\n",
       "      <td>2</td>\n",
       "    </tr>\n",
       "  </tbody>\n",
       "</table>\n",
       "</div>"
      ],
      "text/plain": [
       "    Mês reprodutividade  ocorrencia\n",
       "3     2              IN           4\n",
       "33    2              PN           1\n",
       "53    3              PN           1\n",
       "54    3              IN           1\n",
       "37    4              IN           2"
      ]
     },
     "execution_count": 116,
     "metadata": {},
     "output_type": "execute_result"
    }
   ],
   "source": [
    "#novo df para um novo grafico\n",
    "df2=dfgraf3\n",
    "df2.head()"
   ]
  },
  {
   "cell_type": "code",
   "execution_count": 117,
   "id": "97a55fcf-f061-42f7-aad5-b1cbdde53e6f",
   "metadata": {},
   "outputs": [],
   "source": [
    "df2=df2.sort_values(by=['Mês'])"
   ]
  },
  {
   "cell_type": "code",
   "execution_count": 118,
   "id": "3c940c71-f216-44d3-a588-aad6602e3aaf",
   "metadata": {},
   "outputs": [],
   "source": [
    "#separando em dataframes diferentes situação reprodutiva\n",
    "dfPN = df2.loc[df2['reprodutividade'].isin(['PN'])]\n",
    "dfPT = df2.loc[df2['reprodutividade'].isin(['PT'])]\n",
    "dfIN = df2.loc[df2['reprodutividade'].isin(['IN'])]\n",
    "dfCI = df2.loc[df2['reprodutividade'].isin(['CI'])]"
   ]
  },
  {
   "cell_type": "code",
   "execution_count": null,
   "id": "d9ac7b11-23b9-431e-a062-2cddfdbe0627",
   "metadata": {},
   "outputs": [],
   "source": [
    "dfCI = dfCI.set_index('CI').T\n",
    "dfPT = dfPT.set_index('PT').T\n",
    "dfPN = dfPN.set_index('PN').T\n",
    "dfIN = dfIN.set_index('IN').T"
   ]
  },
  {
   "cell_type": "code",
   "execution_count": 120,
   "id": "ffb9ae8e-d3d2-48ed-ad54-d83fe85e16b3",
   "metadata": {},
   "outputs": [],
   "source": [
    "dfCI=dfCI.sort_values(by=['Mês'])"
   ]
  },
  {
   "cell_type": "code",
   "execution_count": 121,
   "id": "c0946212-045f-4e34-a321-078fadda2077",
   "metadata": {},
   "outputs": [],
   "source": [
    "dfPT=dfPT.sort_values(by=['Mês'])"
   ]
  },
  {
   "cell_type": "code",
   "execution_count": 122,
   "id": "0eef4e77-bee4-4a62-8afc-d16b357aea92",
   "metadata": {},
   "outputs": [],
   "source": [
    "dfIN= dfIN.sort_values(by=['Mês'])"
   ]
  },
  {
   "cell_type": "code",
   "execution_count": 123,
   "id": "9e66048a-d50a-494d-be3e-4478417c2b76",
   "metadata": {},
   "outputs": [],
   "source": [
    "dfPN=dfPN.sort_values(by=['Mês'])"
   ]
  },
  {
   "cell_type": "code",
   "execution_count": 124,
   "id": "831f4aa0-8bf1-43f4-997a-30f94b2883eb",
   "metadata": {},
   "outputs": [
    {
     "data": {
      "image/png": "[encoded data removed]",
      "text/plain": [
       "<Figure size 640x480 with 1 Axes>"
      ]
     },
     "metadata": {},
     "output_type": "display_data"
    }
   ],
   "source": [
    "import matplotlib.pyplot as plt\n",
    "import numpy as np\n",
    "\n",
    "# Supondo que dfCI, dfPT, dfPN, dfIN sejam DataFrames contendo colunas 'Mês' e 'ocorrencia'.\n",
    "# Certifique-se de que as variáveis correspondam ao que você tem no seu código.\n",
    "\n",
    "# Criar o gráfico de linhas com cores distintas para cada conjunto de dados\n",
    "plt.plot(dfCI['Mês'], dfCI['ocorrencia'], label='CI', color='blue', marker='o')\n",
    "plt.plot(dfPT['Mês'], dfPT['ocorrencia'], label='PT', color='green', marker='s')\n",
    "plt.plot(dfPN['Mês'], dfPN['ocorrencia'], label='PN', color='red', marker='^')\n",
    "plt.plot(dfIN['Mês'], dfIN['ocorrencia'], label='IN', color='orange', marker='d')\n",
    "\n",
    "# Adicionar rótulos e legenda\n",
    "plt.xlabel('Mês', fontsize=12)\n",
    "plt.ylabel('Ocorrência', fontsize=12)\n",
    "plt.title('Ocorrências por Mês de Cios, Prenhezes, Inseminações e Partos', fontsize=14)\n",
    "plt.legend(title='Legenda', fontsize=10)\n",
    "\n",
    "# Mostrar o gráfico\n",
    "plt.grid(True, linestyle='--', alpha=0.6)\n",
    "plt.tight_layout()\n",
    "plt.show()\n"
   ]
  }
 ],
 "metadata": {
  "kernelspec": {
   "display_name": "Python 3 (ipykernel)",
   "language": "python",
   "name": "python3"
  },
  "language_info": {
   "codemirror_mode": {
    "name": "ipython",
    "version": 3
   },
   "file_extension": ".py",
   "mimetype": "text/x-python",
   "name": "python",
   "nbconvert_exporter": "python",
   "pygments_lexer": "ipython3",
   "version": "3.11.7"
  },
  "widgets": {
   "application/vnd.jupyter.widget-state+json": {
    "state": {},
    "version_major": 2,
    "version_minor": 0
   }
  }
 },
 "nbformat": 4,
 "nbformat_minor": 5
}
